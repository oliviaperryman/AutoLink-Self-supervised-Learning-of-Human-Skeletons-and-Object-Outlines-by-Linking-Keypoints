{
 "cells": [
  {
   "cell_type": "code",
   "execution_count": 1,
   "metadata": {},
   "outputs": [],
   "source": [
    "import pytorch3d"
   ]
  },
  {
   "cell_type": "code",
   "execution_count": 2,
   "metadata": {},
   "outputs": [
    {
     "name": "stderr",
     "output_type": "stream",
     "text": [
      "/local/omp/anaconda3/envs/cs503/lib/python3.8/site-packages/tqdm/auto.py:21: TqdmWarning: IProgress not found. Please update jupyter and ipywidgets. See https://ipywidgets.readthedocs.io/en/stable/user_install.html\n",
      "  from .autonotebook import tqdm as notebook_tqdm\n"
     ]
    }
   ],
   "source": [
    "from pytorch3d.structures import Pointclouds"
   ]
  },
  {
   "cell_type": "code",
   "execution_count": 3,
   "metadata": {},
   "outputs": [],
   "source": [
    "import torch\n",
    "import numpy as np\n",
    "from pytorch3d.transforms import (Rotate, axis_angle_to_matrix,)\n",
    "np.set_printoptions(suppress=True, precision=4, linewidth=150, edgeitems=20)\n",
    "torch.set_printoptions(sci_mode=False, precision=4, linewidth=150, edgeitems=20)\n",
    "DEG_TO_RAD = np.pi / 180"
   ]
  },
  {
   "cell_type": "code",
   "execution_count": 4,
   "metadata": {},
   "outputs": [
    {
     "name": "stdout",
     "output_type": "stream",
     "text": [
      "Applying this transform (also alpha=0.785 rad.):\n",
      "tensor([[[ 0.7071, -0.7071,  0.0000],\n",
      "         [ 0.7071,  0.7071,  0.0000],\n",
      "         [ 0.0000,  0.0000,  1.0000]]], dtype=torch.float64)\n",
      "tensor([[0., 0., 0.]], dtype=torch.float64)\n",
      "\n"
     ]
    }
   ],
   "source": [
    "# https://github.com/facebookresearch/pytorch3d/issues/1192\n",
    "xyz_np = np.array([[\n",
    "    [0, 0, 0],\n",
    "    [0, 1, 0],\n",
    "    [0, 2, 0],\n",
    "    [0, 3, 0],\n",
    "    [0, 4, 0],\n",
    "    [0, 5, 0],\n",
    "    [0, 6, 0],\n",
    "    [0, 7, 0],\n",
    "    [0, 8, 0],\n",
    "    [0, 9, 0],\n",
    "]])\n",
    "xyz = torch.as_tensor(xyz_np).float()\n",
    "\n",
    "# Define a transformation.\n",
    "alpha = 45. * DEG_TO_RAD\n",
    "trans = torch.as_tensor(np.array([[0., 0., 0.]]))\n",
    "axis_angle = torch.as_tensor(np.array([[0., 0., alpha]]))\n",
    "Rot = axis_angle_to_matrix(axis_angle)\n",
    "T_transform = Rotate(Rot).translate(trans)\n",
    "print(f'Applying this transform (also alpha={alpha:0.3f} rad.):')\n",
    "print(f'{Rot}\\n{trans}\\n')"
   ]
  },
  {
   "cell_type": "code",
   "execution_count": 5,
   "metadata": {},
   "outputs": [],
   "source": [
    "import torchvision\n"
   ]
  },
  {
   "cell_type": "code",
   "execution_count": 6,
   "metadata": {},
   "outputs": [],
   "source": [
    "import pytorch_lightning"
   ]
  },
  {
   "cell_type": "code",
   "execution_count": 7,
   "metadata": {},
   "outputs": [],
   "source": [
    "from pytorch3d import _C"
   ]
  },
  {
   "cell_type": "code",
   "execution_count": 8,
   "metadata": {},
   "outputs": [],
   "source": [
    "from pytorch3d.ops.utils import convert_pointclouds_to_tensor\n"
   ]
  }
 ],
 "metadata": {
  "kernelspec": {
   "display_name": "pytorch3d",
   "language": "python",
   "name": "python3"
  },
  "language_info": {
   "codemirror_mode": {
    "name": "ipython",
    "version": 3
   },
   "file_extension": ".py",
   "mimetype": "text/x-python",
   "name": "python",
   "nbconvert_exporter": "python",
   "pygments_lexer": "ipython3",
   "version": "3.8.16"
  },
  "orig_nbformat": 4
 },
 "nbformat": 4,
 "nbformat_minor": 2
}
